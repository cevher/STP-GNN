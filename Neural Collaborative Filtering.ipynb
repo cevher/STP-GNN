{
 "cells": [
  {
   "cell_type": "code",
   "execution_count": 1,
   "id": "f746fb8a-1464-4391-852a-25b6f80767ec",
   "metadata": {},
   "outputs": [],
   "source": [
    "import pandas as pd\n",
    "import numpy as np\n",
    "from sklearn import model_selection, metrics, preprocessing\n",
    "import torch\n",
    "import torch.nn as nn\n",
    "import matplotlib.pyplot as plt\n",
    "from torch.utils.data import Dataset, DataLoader"
   ]
  },
  {
   "cell_type": "code",
   "execution_count": 2,
   "id": "32f93307-8ca9-4db4-b763-42f66269b3f5",
   "metadata": {},
   "outputs": [],
   "source": [
    "device = torch.device('cuda' if torch.cuda.is_available() else 'cpu')\n",
    "device = 'cpu'"
   ]
  },
  {
   "cell_type": "code",
   "execution_count": 3,
   "id": "298b1e43-3e80-4291-a234-0684f0bd08fd",
   "metadata": {},
   "outputs": [],
   "source": [
    "df = pd.read_csv('./ml-latest-small/ratings_df.csv')"
   ]
  },
  {
   "cell_type": "code",
   "execution_count": 4,
   "id": "07806a82-733b-4e6a-a3c3-4db40e670167",
   "metadata": {},
   "outputs": [
    {
     "name": "stdout",
     "output_type": "stream",
     "text": [
      "<class 'pandas.core.frame.DataFrame'>\n",
      "RangeIndex: 100836 entries, 0 to 100835\n",
      "Data columns (total 5 columns):\n",
      " #   Column      Non-Null Count   Dtype  \n",
      "---  ------      --------------   -----  \n",
      " 0   Unnamed: 0  100836 non-null  int64  \n",
      " 1   userId      100836 non-null  int64  \n",
      " 2   movieId     100836 non-null  int64  \n",
      " 3   rating      100836 non-null  float64\n",
      " 4   timestamp   100836 non-null  int64  \n",
      "dtypes: float64(1), int64(4)\n",
      "memory usage: 3.8 MB\n"
     ]
    }
   ],
   "source": [
    "df.info()"
   ]
  },
  {
   "cell_type": "code",
   "execution_count": 6,
   "id": "bd7c46f0-ba48-40b8-bbe4-9801e91aff84",
   "metadata": {},
   "outputs": [
    {
     "data": {
      "text/plain": [
       "610"
      ]
     },
     "execution_count": 6,
     "metadata": {},
     "output_type": "execute_result"
    }
   ],
   "source": [
    "df.userId.nunique()"
   ]
  },
  {
   "cell_type": "code",
   "execution_count": 7,
   "id": "d70b5563-33a7-450d-b52b-89c8be09dbb9",
   "metadata": {},
   "outputs": [
    {
     "data": {
      "text/plain": [
       "9724"
      ]
     },
     "execution_count": 7,
     "metadata": {},
     "output_type": "execute_result"
    }
   ],
   "source": [
    "df.movieId.nunique()"
   ]
  },
  {
   "cell_type": "code",
   "execution_count": 8,
   "id": "f4821699-c477-48a5-adec-91ab31acc4b4",
   "metadata": {},
   "outputs": [
    {
     "data": {
      "text/plain": [
       "(100836, 5)"
      ]
     },
     "execution_count": 8,
     "metadata": {},
     "output_type": "execute_result"
    }
   ],
   "source": [
    "df.shape"
   ]
  },
  {
   "cell_type": "code",
   "execution_count": 9,
   "id": "9be2a66f-6e16-45e8-9265-01583171cd71",
   "metadata": {},
   "outputs": [],
   "source": [
    "class MovieDataset:\n",
    "    def __init__(self, users, movies, ratings):\n",
    "        self.users = users\n",
    "        self.movies = movies\n",
    "        self.ratings = ratings\n",
    "\n",
    "    def __len__(self):\n",
    "        return len(self.users)\n",
    "\n",
    "    def __getitem__(self, item):\n",
    "        users = self.users[item]\n",
    "        movies = self.movies[item]\n",
    "        ratings = self.ratings[item]\n",
    "        return {\n",
    "            \"users\": torch.tensor(users, dtype=torch.long),\n",
    "            \"movies\": torch.tensor(movies, dtype=torch.long),\n",
    "            \"ratings\": torch.tensor(ratings, dtype=torch.long),\n",
    "        }"
   ]
  },
  {
   "cell_type": "markdown",
   "id": "0ee604fe-9bc1-4db9-954a-7211a78b0526",
   "metadata": {},
   "source": [
    "#### Model"
   ]
  },
  {
   "cell_type": "code",
   "execution_count": 10,
   "id": "5afb949c-b88b-45b7-8558-a19ecbc7e262",
   "metadata": {},
   "outputs": [],
   "source": [
    "class RecModel(nn.Module):\n",
    "    def __init__(self, n_users, n_movies):\n",
    "        super().__init__()\n",
    "\n",
    "        self.user_embed = nn.Embedding(n_users, 32)\n",
    "        self.movie_embed = nn.Embedding(n_movies, 32)\n",
    "        # user and movie should be concatenated\n",
    "        self.out = nn.Linear(64,1)\n",
    "\n",
    "    def forward(self, users, movies, ratings=None):\n",
    "        user_embeds = self.user_embed(users)\n",
    "        movie_embeds = self.movie_embed(movies)\n",
    "        output = torch.cat([user_embeds, movie_embeds], dim=1)\n",
    "        output = self.out(output)\n",
    "        \n",
    "        return output"
   ]
  },
  {
   "cell_type": "code",
   "execution_count": 11,
   "id": "8144ff4c-bcb8-46bf-bcdb-926801cea386",
   "metadata": {},
   "outputs": [],
   "source": [
    "# Encoding user and movie id to start from index 0\n",
    "lbl_user = preprocessing.LabelEncoder()\n",
    "lbl_movie = preprocessing.LabelEncoder()\n",
    "df.userId = lbl_user.fit_transform(df.userId.values)\n",
    "df.movieId = lbl_movie.fit_transform(df.movieId.values)\n",
    "\n",
    "df_train, df_valid = model_selection.train_test_split(\n",
    "    df, test_size=0.1, random_state=42, stratify=df.rating.values\n",
    ")\n",
    "\n",
    "train_dataset = MovieDataset(\n",
    "    users = df_train.userId.values,\n",
    "    movies = df_train.movieId.values,\n",
    "    ratings = df_train.rating.values\n",
    ")\n",
    "\n",
    "valid_dataset = MovieDataset(\n",
    "    users = df_valid.userId.values,\n",
    "    movies = df_valid.movieId.values,\n",
    "    ratings = df_valid.rating.values\n",
    ")"
   ]
  },
  {
   "cell_type": "code",
   "execution_count": 12,
   "id": "479856bd-3378-4da4-82fe-f1907caa5192",
   "metadata": {},
   "outputs": [
    {
     "name": "stderr",
     "output_type": "stream",
     "text": [
      "/tmp/ipykernel_2562/477418563.py:17: DeprecationWarning: an integer is required (got type numpy.float64).  Implicit conversion to integers using __int__ is deprecated, and may be removed in a future version of Python.\n",
      "  \"ratings\": torch.tensor(ratings, dtype=torch.long),\n",
      "/tmp/ipykernel_2562/477418563.py:17: DeprecationWarning: an integer is required (got type numpy.float64).  Implicit conversion to integers using __int__ is deprecated, and may be removed in a future version of Python.\n",
      "  \"ratings\": torch.tensor(ratings, dtype=torch.long),\n",
      "/home/cevher/.local/lib/python3.8/site-packages/tqdm/auto.py:21: TqdmWarning: IProgress not found. Please update jupyter and ipywidgets. See https://ipywidgets.readthedocs.io/en/stable/user_install.html\n",
      "  from .autonotebook import tqdm as notebook_tqdm\n",
      "/home/cevher/.local/lib/python3.8/site-packages/tqdm/auto.py:21: TqdmWarning: IProgress not found. Please update jupyter and ipywidgets. See https://ipywidgets.readthedocs.io/en/stable/user_install.html\n",
      "  from .autonotebook import tqdm as notebook_tqdm\n",
      "/tmp/ipykernel_2562/477418563.py:17: DeprecationWarning: an integer is required (got type numpy.float64).  Implicit conversion to integers using __int__ is deprecated, and may be removed in a future version of Python.\n",
      "  \"ratings\": torch.tensor(ratings, dtype=torch.long),\n"
     ]
    },
    {
     "name": "stdout",
     "output_type": "stream",
     "text": [
      "{'users': tensor([ 65, 473,   5,  73]), 'movies': tensor([3885, 1913,  762, 1819]), 'ratings': tensor([5, 3, 4, 2])}\n"
     ]
    }
   ],
   "source": [
    "train_loader = DataLoader(dataset=train_dataset,\n",
    "                          batch_size=4,\n",
    "                          shuffle=True,\n",
    "                          num_workers=2)\n",
    "\n",
    "validation_loader = DataLoader(dataset=valid_dataset,\n",
    "                               batch_size=4,\n",
    "                               shuffle=True,\n",
    "                               num_workers=2)\n",
    "\n",
    "dataiter = iter(train_loader)\n",
    "dataloader_data=next(dataiter)\n",
    "print(dataloader_data)"
   ]
  },
  {
   "cell_type": "code",
   "execution_count": 13,
   "id": "c992e9c0-b0e2-48f5-8a14-34e76a3ea070",
   "metadata": {},
   "outputs": [
    {
     "name": "stderr",
     "output_type": "stream",
     "text": [
      "/home/cevher/.local/lib/python3.8/site-packages/tqdm/auto.py:21: TqdmWarning: IProgress not found. Please update jupyter and ipywidgets. See https://ipywidgets.readthedocs.io/en/stable/user_install.html\n",
      "  from .autonotebook import tqdm as notebook_tqdm\n"
     ]
    }
   ],
   "source": [
    "model = RecModel(\n",
    "    n_users=len(lbl_user.classes_),\n",
    "    n_movies=len(lbl_movie.classes_),\n",
    ").to(device)\n",
    "\n",
    "\n",
    "optimizer = torch.optim.Adam(model.parameters())\n",
    "sch = torch.optim.lr_scheduler.StepLR(optimizer,step_size=3, gamma=0.7)\n",
    "loss_func = nn.MSELoss()\n"
   ]
  },
  {
   "cell_type": "code",
   "execution_count": 14,
   "id": "82bce249-82a6-4d47-9625-ab0cff93bf2a",
   "metadata": {},
   "outputs": [],
   "source": [
    "user_embed = nn.Embedding(len(lbl_user.classes_), 32)\n",
    "movie_embed = nn.Embedding(len(lbl_movie.classes_), 32)\n",
    "\n",
    "out = nn.Linear(64,1)"
   ]
  },
  {
   "cell_type": "code",
   "execution_count": 15,
   "id": "01cc164e-cc0e-429d-833b-ec583ca569f9",
   "metadata": {},
   "outputs": [
    {
     "name": "stdout",
     "output_type": "stream",
     "text": [
      "user_embeds torch.Size([4, 32])\n",
      "user_embeds torch.Size([4, 32])\n"
     ]
    }
   ],
   "source": [
    "user_embeds = user_embed(dataloader_data['users'])\n",
    "movie_embeds = movie_embed(dataloader_data['movies'])\n",
    "print(f\"user_embeds {user_embeds.size()}\")\n",
    "print(f\"user_embeds {movie_embeds.size()}\")"
   ]
  },
  {
   "cell_type": "code",
   "execution_count": 16,
   "id": "7161c7f2-9b95-4ea7-ba05-35bc42422387",
   "metadata": {},
   "outputs": [
    {
     "name": "stdout",
     "output_type": "stream",
     "text": [
      "output: torch.Size([4, 64])\n"
     ]
    }
   ],
   "source": [
    "output = torch.cat([user_embeds, movie_embeds], dim=1)\n",
    "print(f\"output: {output.size()}\")"
   ]
  },
  {
   "cell_type": "code",
   "execution_count": null,
   "id": "a4a9bfc6-1f60-4961-8afa-718b887b0ff0",
   "metadata": {},
   "outputs": [],
   "source": []
  },
  {
   "cell_type": "code",
   "execution_count": null,
   "id": "4ee95bc4-e2e8-4509-b7a1-0ccdd909a985",
   "metadata": {},
   "outputs": [],
   "source": []
  },
  {
   "cell_type": "code",
   "execution_count": 20,
   "id": "bb2dab2f-b1d4-4e59-8231-7631dd128b88",
   "metadata": {},
   "outputs": [
    {
     "ename": "NameError",
     "evalue": "name 'user_est_true' is not defined",
     "output_type": "error",
     "traceback": [
      "\u001b[0;31m---------------------------------------------------------------------------\u001b[0m",
      "\u001b[0;31mNameError\u001b[0m                                 Traceback (most recent call last)",
      "Cell \u001b[0;32mIn[20], line 7\u001b[0m\n\u001b[1;32m      5\u001b[0m k\u001b[38;5;241m=\u001b[39m\u001b[38;5;241m100\u001b[39m\n\u001b[1;32m      6\u001b[0m threshold \u001b[38;5;241m=\u001b[39m \u001b[38;5;241m3.5\u001b[39m\n\u001b[0;32m----> 7\u001b[0m \u001b[38;5;28;01mfor\u001b[39;00m uid, user_ratings \u001b[38;5;129;01min\u001b[39;00m \u001b[43muser_est_true\u001b[49m\u001b[38;5;241m.\u001b[39mitems():\n\u001b[1;32m      8\u001b[0m     user_ratings\u001b[38;5;241m.\u001b[39msort(key\u001b[38;5;241m=\u001b[39m\u001b[38;5;28;01mlambda\u001b[39;00m x: x[\u001b[38;5;241m0\u001b[39m], reverse\u001b[38;5;241m=\u001b[39m\u001b[38;5;28;01mTrue\u001b[39;00m)\n\u001b[1;32m      9\u001b[0m     n_rel \u001b[38;5;241m=\u001b[39m \u001b[38;5;28msum\u001b[39m((true_r \u001b[38;5;241m>\u001b[39m\u001b[38;5;241m=\u001b[39m threshold) \u001b[38;5;28;01mfor\u001b[39;00m (_, true_r) \u001b[38;5;129;01min\u001b[39;00m user_ratings)\n",
      "\u001b[0;31mNameError\u001b[0m: name 'user_est_true' is not defined"
     ]
    }
   ],
   "source": [
    "with torch.no_grad():\n",
    "    precisions = dict()\n",
    "    recalls = dict()\n",
    "\n",
    "    k=100\n",
    "    threshold = 3.5\n",
    "    for uid, user_ratings in user_est_true.items():\n",
    "        user_ratings.sort(key=lambda x: x[0], reverse=True)\n",
    "        n_rel = sum((true_r >= threshold) for (_, true_r) in user_ratings)\n",
    "        n_rec_k = sum((est >= threshold) for (est, _) in ratings[:k])\n",
    "\n",
    "        n_rel_and_rec_k = sum(\n",
    "            ((true_r >= threshold) and (est >= threshold)) for (est, true_r) in user_ratings[:k]\n",
    "        )\n",
    "\n",
    "    precisions[uid] = n_rel_and_rec_k / n_rec_k if n_rec_k != 0 else 0\n",
    "    recalls[uid] = n_rel_and_rec_k / n_rel if n_rel != 0 else 0"
   ]
  },
  {
   "cell_type": "code",
   "execution_count": null,
   "id": "69ca33e6-f4db-4a0f-ba44-695072680224",
   "metadata": {},
   "outputs": [],
   "source": [
    "print(f\" precision @ {k} : {sum(prec for prec in precisions.values()) / len(precision)}\")\n",
    "print(f\" recall @ {k} : {sum(rec for rec in recalls.values()) / len(recalls)}\")\n"
   ]
  }
 ],
 "metadata": {
  "kernelspec": {
   "display_name": "Python 3 (ipykernel)",
   "language": "python",
   "name": "python3"
  },
  "language_info": {
   "codemirror_mode": {
    "name": "ipython",
    "version": 3
   },
   "file_extension": ".py",
   "mimetype": "text/x-python",
   "name": "python",
   "nbconvert_exporter": "python",
   "pygments_lexer": "ipython3",
   "version": "3.8.10"
  }
 },
 "nbformat": 4,
 "nbformat_minor": 5
}
